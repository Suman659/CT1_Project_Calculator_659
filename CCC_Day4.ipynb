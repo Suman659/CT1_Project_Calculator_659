{
  "nbformat": 4,
  "nbformat_minor": 0,
  "metadata": {
    "colab": {
      "provenance": [],
      "authorship_tag": "ABX9TyMEQCSO6wrhVhfKtV5JWwVf",
      "include_colab_link": true
    },
    "kernelspec": {
      "name": "python3",
      "display_name": "Python 3"
    },
    "language_info": {
      "name": "python"
    }
  },
  "cells": [
    {
      "cell_type": "markdown",
      "metadata": {
        "id": "view-in-github",
        "colab_type": "text"
      },
      "source": [
        "<a href=\"https://colab.research.google.com/github/Suman659/CT1_Project_Calculator_659/blob/main/CCC_Day4.ipynb\" target=\"_parent\"><img src=\"https://colab.research.google.com/assets/colab-badge.svg\" alt=\"Open In Colab\"/></a>"
      ]
    },
    {
      "cell_type": "markdown",
      "source": [
        "```\n",
        "Defined Functions\n"
      ],
      "metadata": {
        "id": "PKROMwPe08AQ"
      }
    },
    {
      "cell_type": "code",
      "execution_count": 21,
      "metadata": {
        "id": "FNn5rpSL01sY"
      },
      "outputs": [],
      "source": [
        "def print_msg_n_times(msg,n):\n",
        "  for i in range(n):\n",
        "    print(msg)"
      ]
    },
    {
      "cell_type": "code",
      "source": [
        "def print_msg_n_times(msg=\"Hello\",n=5):\n",
        "  for i in range(n):\n",
        "    return(msg)"
      ],
      "metadata": {
        "id": "FIG0AWiV1Phx"
      },
      "execution_count": 27,
      "outputs": []
    },
    {
      "cell_type": "code",
      "source": [
        "def add(a,b):\n",
        "  res=a+b\n",
        "  return res"
      ],
      "metadata": {
        "id": "hX5RYt0S1-_D"
      },
      "execution_count": 26,
      "outputs": []
    },
    {
      "cell_type": "code",
      "source": [
        "def add(a,b):\n",
        "  res=a+b\n",
        "  return res\n",
        "a=add(10,50)\n",
        "print(a)"
      ],
      "metadata": {
        "colab": {
          "base_uri": "https://localhost:8080/"
        },
        "id": "KPyMMzQo2KjO",
        "outputId": "b92b9275-3357-4f6e-f79b-12f1bb7b3948"
      },
      "execution_count": 22,
      "outputs": [
        {
          "output_type": "stream",
          "name": "stdout",
          "text": [
            "60\n"
          ]
        }
      ]
    },
    {
      "cell_type": "markdown",
      "source": [
        "```\n",
        "Variable length argument\n"
      ],
      "metadata": {
        "id": "fyVqn8-43QHA"
      }
    },
    {
      "cell_type": "code",
      "source": [
        "def vla(*args):\n",
        "  print(args)"
      ],
      "metadata": {
        "id": "valYZYfb2YQF"
      },
      "execution_count": 29,
      "outputs": []
    },
    {
      "cell_type": "code",
      "source": [
        "def vla(*args):\n",
        "  print(args)\n",
        "vla(1,2,3,4)"
      ],
      "metadata": {
        "colab": {
          "base_uri": "https://localhost:8080/"
        },
        "id": "b_Q_fkEr3e3k",
        "outputId": "17541fe4-7014-4500-874f-1647101ca871"
      },
      "execution_count": 45,
      "outputs": [
        {
          "output_type": "stream",
          "name": "stdout",
          "text": [
            "(1, 2, 3, 4)\n"
          ]
        }
      ]
    },
    {
      "cell_type": "code",
      "source": [
        "def add(*num):\n",
        "  res=0\n",
        "  for n in num:\n",
        "    res+= n\n",
        "  return res\n",
        "add(10,20,30)"
      ],
      "metadata": {
        "colab": {
          "base_uri": "https://localhost:8080/"
        },
        "id": "pf4u3_T_3nFd",
        "outputId": "42f6bde6-41f2-4e5b-c820-9a2ee9847abe"
      },
      "execution_count": 38,
      "outputs": [
        {
          "output_type": "execute_result",
          "data": {
            "text/plain": [
              "60"
            ]
          },
          "metadata": {},
          "execution_count": 38
        }
      ]
    },
    {
      "cell_type": "markdown",
      "source": [
        "```\n",
        "Function with keyworded variable length arguments\n"
      ],
      "metadata": {
        "id": "T_R0miXc4ZPa"
      }
    },
    {
      "cell_type": "code",
      "source": [
        "def get_details(name,gender):\n",
        "  print(name)\n",
        "  print(gender)\n",
        "get_details('John','M')\n"
      ],
      "metadata": {
        "colab": {
          "base_uri": "https://localhost:8080/"
        },
        "id": "ZmdwWcN734Yv",
        "outputId": "5b28a569-c513-45f3-c453-d5ed2595c41d"
      },
      "execution_count": 41,
      "outputs": [
        {
          "output_type": "stream",
          "name": "stdout",
          "text": [
            "John\n",
            "M\n"
          ]
        }
      ]
    },
    {
      "cell_type": "code",
      "source": [
        "def get_details(**kwargs):\n",
        "  print(kwargs)\n",
        "get_details(name=\"John\",age=43,height=5.10)"
      ],
      "metadata": {
        "colab": {
          "base_uri": "https://localhost:8080/"
        },
        "id": "hJqL0ig236-7",
        "outputId": "7469d53f-4dee-47da-851e-309513adaf6c"
      },
      "execution_count": 44,
      "outputs": [
        {
          "output_type": "stream",
          "name": "stdout",
          "text": [
            "{'name': 'John', 'age': 43, 'height': 5.1}\n"
          ]
        }
      ]
    },
    {
      "cell_type": "code",
      "source": [
        "def get_details(**d):  #u can use anything in place of kwargs only the ** is imp#\n",
        "  print(d)\n",
        "get_details(name=\"John\",age=43,height=5.10)"
      ],
      "metadata": {
        "colab": {
          "base_uri": "https://localhost:8080/"
        },
        "id": "fGM3DohG5jlV",
        "outputId": "f06e9d18-9120-4e92-9271-9e7642b91efe"
      },
      "execution_count": 47,
      "outputs": [
        {
          "output_type": "stream",
          "name": "stdout",
          "text": [
            "{'name': 'John', 'age': 43, 'height': 5.1}\n"
          ]
        }
      ]
    },
    {
      "cell_type": "markdown",
      "source": [],
      "metadata": {
        "id": "QSJzHeRO8NK4"
      }
    },
    {
      "cell_type": "code",
      "source": [
        "def func(a,b,c):\n",
        "  print(a+b-c)\n",
        "func(10,20,30)"
      ],
      "metadata": {
        "colab": {
          "base_uri": "https://localhost:8080/"
        },
        "id": "tISTwjhk6H5t",
        "outputId": "2efcd9de-4574-466f-9205-2a9e15759b03"
      },
      "execution_count": 48,
      "outputs": [
        {
          "output_type": "stream",
          "name": "stdout",
          "text": [
            "0\n"
          ]
        }
      ]
    },
    {
      "cell_type": "code",
      "source": [
        "def func(a=0):\n",
        "  print(\"....\")\n",
        "  print(a)\n",
        "func()"
      ],
      "metadata": {
        "colab": {
          "base_uri": "https://localhost:8080/"
        },
        "id": "5gpsSxjr6Hr6",
        "outputId": "9d6cc9a4-3203-453d-91d3-06747bd2e886"
      },
      "execution_count": 63,
      "outputs": [
        {
          "output_type": "stream",
          "name": "stdout",
          "text": [
            "....\n",
            "0\n"
          ]
        }
      ]
    },
    {
      "cell_type": "code",
      "source": [
        "def func(a=100,b=0):\n",
        "  print(\"....\")\n",
        "  print(a)\n",
        "func()"
      ],
      "metadata": {
        "colab": {
          "base_uri": "https://localhost:8080/"
        },
        "id": "eq_vKufI6pya",
        "outputId": "b423b706-48d3-47c5-8512-d983573895e6"
      },
      "execution_count": 65,
      "outputs": [
        {
          "output_type": "stream",
          "name": "stdout",
          "text": [
            "....\n",
            "100\n"
          ]
        }
      ]
    },
    {
      "cell_type": "code",
      "source": [
        "def func(a,*b,**c):\n",
        "  print(a,b)\n",
        "func(1,2,3)"
      ],
      "metadata": {
        "colab": {
          "base_uri": "https://localhost:8080/"
        },
        "id": "xdEKxCug8ZtQ",
        "outputId": "a829fc9a-ef42-4968-eeec-05a9f8cc2a68"
      },
      "execution_count": 71,
      "outputs": [
        {
          "output_type": "stream",
          "name": "stdout",
          "text": [
            "1 (2, 3)\n"
          ]
        }
      ]
    },
    {
      "cell_type": "code",
      "source": [
        "def func(*a,b):\n",
        "  print(a,b)\n",
        "func(1,2,3,4,5,b=10)"
      ],
      "metadata": {
        "colab": {
          "base_uri": "https://localhost:8080/"
        },
        "id": "QSnxcoEO8r85",
        "outputId": "2b407ac8-d05a-4510-8fcc-8f22a797401e"
      },
      "execution_count": 73,
      "outputs": [
        {
          "output_type": "stream",
          "name": "stdout",
          "text": [
            "(1, 2, 3, 4, 5) 10\n"
          ]
        }
      ]
    },
    {
      "cell_type": "code",
      "source": [
        "def func(*args,c**kwargs):\n",
        "  print(args)\n",
        "  print(kwargs)\n",
        "func()"
      ],
      "metadata": {
        "id": "mGYwXuWX9Lzv"
      },
      "execution_count": null,
      "outputs": []
    },
    {
      "cell_type": "markdown",
      "source": [
        "```\n",
        "pass:\n",
        "occupies space and does nothing\n"
      ],
      "metadata": {
        "id": "8xtCNS2__S4J"
      }
    },
    {
      "cell_type": "code",
      "source": [
        "def load():\n",
        "  pass\n",
        "def process():\n",
        "  pass\n",
        "def unload():\n",
        "  ..."
      ],
      "metadata": {
        "id": "W10Bx-GD9X7w"
      },
      "execution_count": 88,
      "outputs": []
    },
    {
      "cell_type": "code",
      "source": [
        "load()"
      ],
      "metadata": {
        "id": "lcKnBEzq_iPO"
      },
      "execution_count": 92,
      "outputs": []
    },
    {
      "cell_type": "code",
      "source": [
        " class some:\n",
        "   pass\n",
        "some()"
      ],
      "metadata": {
        "colab": {
          "base_uri": "https://localhost:8080/"
        },
        "id": "wOq_MgYX-hW3",
        "outputId": "bc8cb594-de8b-41f0-9983-00c95b98edb3"
      },
      "execution_count": 84,
      "outputs": [
        {
          "output_type": "execute_result",
          "data": {
            "text/plain": [
              "<__main__.some at 0x7fbfa03d5460>"
            ]
          },
          "metadata": {},
          "execution_count": 84
        }
      ]
    },
    {
      "cell_type": "markdown",
      "source": [
        "```\n",
        "Mags:\n"
      ],
      "metadata": {
        "id": "rHNXpKALAG2T"
      }
    },
    {
      "cell_type": "code",
      "source": [
        "help(max)"
      ],
      "metadata": {
        "colab": {
          "base_uri": "https://localhost:8080/"
        },
        "id": "NbTb3lEW_JJL",
        "outputId": "ca213aad-9e6b-4789-d3da-9ebd7475cda3"
      },
      "execution_count": 93,
      "outputs": [
        {
          "output_type": "stream",
          "name": "stdout",
          "text": [
            "Help on built-in function max in module builtins:\n",
            "\n",
            "max(...)\n",
            "    max(iterable, *[, default=obj, key=func]) -> value\n",
            "    max(arg1, arg2, *args, *[, key=func]) -> value\n",
            "    \n",
            "    With a single iterable argument, return its biggest item. The\n",
            "    default keyword-only argument specifies an object to return if\n",
            "    the provided iterable is empty.\n",
            "    With two or more arguments, return the largest argument.\n",
            "\n"
          ]
        }
      ]
    },
    {
      "cell_type": "code",
      "source": [
        "max([1,2,3,4,5])"
      ],
      "metadata": {
        "colab": {
          "base_uri": "https://localhost:8080/"
        },
        "id": "jamRLj-OAFUN",
        "outputId": "cf294d6f-da56-4517-bf91-edf86538932e"
      },
      "execution_count": 95,
      "outputs": [
        {
          "output_type": "execute_result",
          "data": {
            "text/plain": [
              "5"
            ]
          },
          "metadata": {},
          "execution_count": 95
        }
      ]
    },
    {
      "cell_type": "code",
      "source": [
        "def my_max(*args):\n",
        "  max_num=args[0]\n",
        "  for i in args[1:]:\n",
        "    if max_num<i:\n",
        "      max_num=i\n",
        "      max_num(1,2,3,4,5,6,7,8)"
      ],
      "metadata": {
        "id": "yxcY9yHgAh6Y"
      },
      "execution_count": 109,
      "outputs": []
    },
    {
      "cell_type": "markdown",
      "source": [
        "```\n",
        "Lambda\n"
      ],
      "metadata": {
        "id": "RSKg0fkBBfQ5"
      }
    },
    {
      "cell_type": "code",
      "source": [
        "def cube(n):\n",
        "  return (n**3)\n",
        "cube(7)"
      ],
      "metadata": {
        "colab": {
          "base_uri": "https://localhost:8080/"
        },
        "id": "B5zalONcBIbj",
        "outputId": "8047e553-4b42-4df8-8872-78caa51be46e"
      },
      "execution_count": 112,
      "outputs": [
        {
          "output_type": "execute_result",
          "data": {
            "text/plain": [
              "343"
            ]
          },
          "metadata": {},
          "execution_count": 112
        }
      ]
    },
    {
      "cell_type": "code",
      "source": [
        "cube_lambda=lambda x:x**3\n",
        "cube_lambda(5)"
      ],
      "metadata": {
        "colab": {
          "base_uri": "https://localhost:8080/"
        },
        "id": "iEFW861XD7ny",
        "outputId": "86280803-d3e4-40fa-c037-89a5609b78ff"
      },
      "execution_count": 115,
      "outputs": [
        {
          "output_type": "execute_result",
          "data": {
            "text/plain": [
              "125"
            ]
          },
          "metadata": {},
          "execution_count": 115
        }
      ]
    },
    {
      "cell_type": "code",
      "source": [
        "l=[('a',10,20),('b',50,60),('a',2,5),('b',56,1)]\n",
        "sorted(l,key=get_third_element)"
      ],
      "metadata": {
        "colab": {
          "base_uri": "https://localhost:8080/",
          "height": 183
        },
        "id": "bb8CdVVcEMvo",
        "outputId": "fca92b07-2533-4d29-abc5-53d4ea053e9e"
      },
      "execution_count": 117,
      "outputs": [
        {
          "output_type": "error",
          "ename": "NameError",
          "evalue": "ignored",
          "traceback": [
            "\u001b[0;31m---------------------------------------------------------------------------\u001b[0m",
            "\u001b[0;31mNameError\u001b[0m                                 Traceback (most recent call last)",
            "\u001b[0;32m<ipython-input-117-e166052c0c9d>\u001b[0m in \u001b[0;36m<module>\u001b[0;34m\u001b[0m\n\u001b[1;32m      1\u001b[0m \u001b[0ml\u001b[0m\u001b[0;34m=\u001b[0m\u001b[0;34m[\u001b[0m\u001b[0;34m(\u001b[0m\u001b[0;34m'a'\u001b[0m\u001b[0;34m,\u001b[0m\u001b[0;36m10\u001b[0m\u001b[0;34m,\u001b[0m\u001b[0;36m20\u001b[0m\u001b[0;34m)\u001b[0m\u001b[0;34m,\u001b[0m\u001b[0;34m(\u001b[0m\u001b[0;34m'b'\u001b[0m\u001b[0;34m,\u001b[0m\u001b[0;36m50\u001b[0m\u001b[0;34m,\u001b[0m\u001b[0;36m60\u001b[0m\u001b[0;34m)\u001b[0m\u001b[0;34m,\u001b[0m\u001b[0;34m(\u001b[0m\u001b[0;34m'a'\u001b[0m\u001b[0;34m,\u001b[0m\u001b[0;36m2\u001b[0m\u001b[0;34m,\u001b[0m\u001b[0;36m5\u001b[0m\u001b[0;34m)\u001b[0m\u001b[0;34m,\u001b[0m\u001b[0;34m(\u001b[0m\u001b[0;34m'b'\u001b[0m\u001b[0;34m,\u001b[0m\u001b[0;36m56\u001b[0m\u001b[0;34m,\u001b[0m\u001b[0;36m1\u001b[0m\u001b[0;34m)\u001b[0m\u001b[0;34m]\u001b[0m\u001b[0;34m\u001b[0m\u001b[0;34m\u001b[0m\u001b[0m\n\u001b[0;32m----> 2\u001b[0;31m \u001b[0msorted\u001b[0m\u001b[0;34m(\u001b[0m\u001b[0ml\u001b[0m\u001b[0;34m,\u001b[0m\u001b[0mkey\u001b[0m\u001b[0;34m=\u001b[0m\u001b[0mget_third_element\u001b[0m\u001b[0;34m)\u001b[0m\u001b[0;34m\u001b[0m\u001b[0;34m\u001b[0m\u001b[0m\n\u001b[0m",
            "\u001b[0;31mNameError\u001b[0m: name 'get_third_element' is not defined"
          ]
        }
      ]
    },
    {
      "cell_type": "markdown",
      "source": [
        "```\n",
        "Filter\n"
      ],
      "metadata": {
        "id": "yCY579lVGOar"
      }
    },
    {
      "cell_type": "code",
      "source": [
        "help(filter)"
      ],
      "metadata": {
        "colab": {
          "base_uri": "https://localhost:8080/"
        },
        "id": "7mS-ckDIGGiO",
        "outputId": "f8bfa644-a995-40a7-d7e7-975b278b6642"
      },
      "execution_count": 118,
      "outputs": [
        {
          "output_type": "stream",
          "name": "stdout",
          "text": [
            "Help on class filter in module builtins:\n",
            "\n",
            "class filter(object)\n",
            " |  filter(function or None, iterable) --> filter object\n",
            " |  \n",
            " |  Return an iterator yielding those items of iterable for which function(item)\n",
            " |  is true. If function is None, return the items that are true.\n",
            " |  \n",
            " |  Methods defined here:\n",
            " |  \n",
            " |  __getattribute__(self, name, /)\n",
            " |      Return getattr(self, name).\n",
            " |  \n",
            " |  __iter__(self, /)\n",
            " |      Implement iter(self).\n",
            " |  \n",
            " |  __next__(self, /)\n",
            " |      Implement next(self).\n",
            " |  \n",
            " |  __reduce__(...)\n",
            " |      Return state information for pickling.\n",
            " |  \n",
            " |  ----------------------------------------------------------------------\n",
            " |  Static methods defined here:\n",
            " |  \n",
            " |  __new__(*args, **kwargs) from builtins.type\n",
            " |      Create and return a new object.  See help(type) for accurate signature.\n",
            "\n"
          ]
        }
      ]
    },
    {
      "cell_type": "code",
      "source": [
        "ls=[10,20,30,40,50]\n",
        "filter(lambda x: x%2 ==0,ls)\n"
      ],
      "metadata": {
        "colab": {
          "base_uri": "https://localhost:8080/"
        },
        "id": "emT4cBeyGTw5",
        "outputId": "acc70a61-9419-46de-ef2c-09e8125520ba"
      },
      "execution_count": 121,
      "outputs": [
        {
          "output_type": "execute_result",
          "data": {
            "text/plain": [
              "<filter at 0x7fbfa03d5220>"
            ]
          },
          "metadata": {},
          "execution_count": 121
        }
      ]
    },
    {
      "cell_type": "code",
      "source": [
        "def even_check(n):\n",
        "  if n%2==0:\n",
        "    return True\n",
        "  else:\n",
        "    return False\n",
        "list(filter(even_check,range(10)))"
      ],
      "metadata": {
        "colab": {
          "base_uri": "https://localhost:8080/"
        },
        "id": "R1EehdkBGxLv",
        "outputId": "80c24d9c-43ce-46ff-a1f7-dee8f91bd327"
      },
      "execution_count": 122,
      "outputs": [
        {
          "output_type": "execute_result",
          "data": {
            "text/plain": [
              "[0, 2, 4, 6, 8]"
            ]
          },
          "metadata": {},
          "execution_count": 122
        }
      ]
    },
    {
      "cell_type": "code",
      "source": [
        "list(filter(None,range(1,5)))"
      ],
      "metadata": {
        "colab": {
          "base_uri": "https://localhost:8080/"
        },
        "id": "IoVJ4cyKHxMs",
        "outputId": "c9820fa4-4de0-410e-f7ae-713d579d18b0"
      },
      "execution_count": 123,
      "outputs": [
        {
          "output_type": "execute_result",
          "data": {
            "text/plain": [
              "[1, 2, 3, 4]"
            ]
          },
          "metadata": {},
          "execution_count": 123
        }
      ]
    },
    {
      "cell_type": "code",
      "source": [
        "a=['1','2','3','4']\n",
        "list(map(float,a))"
      ],
      "metadata": {
        "colab": {
          "base_uri": "https://localhost:8080/"
        },
        "id": "xmcLaqO2JHCH",
        "outputId": "0af5cd61-776b-4ffc-811c-347cfe8ee9e6"
      },
      "execution_count": 129,
      "outputs": [
        {
          "output_type": "execute_result",
          "data": {
            "text/plain": [
              "[1.0, 2.0, 3.0, 4.0]"
            ]
          },
          "metadata": {},
          "execution_count": 129
        }
      ]
    },
    {
      "cell_type": "code",
      "source": [
        "names=['John','Sara','David']\n",
        "list(map(lambda x: x[::-1],names))"
      ],
      "metadata": {
        "colab": {
          "base_uri": "https://localhost:8080/"
        },
        "id": "UKAQnc0VKGXo",
        "outputId": "c6ddd3b2-628d-4e74-d76d-e11280121cf1"
      },
      "execution_count": 141,
      "outputs": [
        {
          "output_type": "execute_result",
          "data": {
            "text/plain": [
              "['nhoJ', 'araS', 'divaD']"
            ]
          },
          "metadata": {},
          "execution_count": 141
        }
      ]
    },
    {
      "cell_type": "code",
      "source": [
        "s='123456'\n",
        "l=list(s)\n",
        "list(map(int,l))\n"
      ],
      "metadata": {
        "colab": {
          "base_uri": "https://localhost:8080/"
        },
        "id": "lkGX3wEhJ7xb",
        "outputId": "a60f1920-8c58-4d94-ed9f-b67562f303fb"
      },
      "execution_count": 143,
      "outputs": [
        {
          "output_type": "execute_result",
          "data": {
            "text/plain": [
              "[1, 2, 3, 4, 5, 6]"
            ]
          },
          "metadata": {},
          "execution_count": 143
        }
      ]
    },
    {
      "cell_type": "markdown",
      "source": [
        "```\n",
        "Reduce\n"
      ],
      "metadata": {
        "id": "ulCt_sYTNJbW"
      }
    },
    {
      "cell_type": "code",
      "source": [
        "help(reduce)"
      ],
      "metadata": {
        "colab": {
          "base_uri": "https://localhost:8080/",
          "height": 166
        },
        "id": "Rx44Sub9MCjQ",
        "outputId": "abbbdcf1-0d66-4e23-9da4-ba9eb60ff5a2"
      },
      "execution_count": 144,
      "outputs": [
        {
          "output_type": "error",
          "ename": "NameError",
          "evalue": "ignored",
          "traceback": [
            "\u001b[0;31m---------------------------------------------------------------------------\u001b[0m",
            "\u001b[0;31mNameError\u001b[0m                                 Traceback (most recent call last)",
            "\u001b[0;32m<ipython-input-144-73eeb5152f5e>\u001b[0m in \u001b[0;36m<module>\u001b[0;34m\u001b[0m\n\u001b[0;32m----> 1\u001b[0;31m \u001b[0mhelp\u001b[0m\u001b[0;34m(\u001b[0m\u001b[0mreduce\u001b[0m\u001b[0;34m)\u001b[0m\u001b[0;34m\u001b[0m\u001b[0;34m\u001b[0m\u001b[0m\n\u001b[0m",
            "\u001b[0;31mNameError\u001b[0m: name 'reduce' is not defined"
          ]
        }
      ]
    },
    {
      "cell_type": "code",
      "source": [
        "from functools import reduce"
      ],
      "metadata": {
        "id": "Utu4yoVqNMvB"
      },
      "execution_count": 145,
      "outputs": []
    },
    {
      "cell_type": "code",
      "source": [
        "help(reduce)"
      ],
      "metadata": {
        "colab": {
          "base_uri": "https://localhost:8080/"
        },
        "id": "PyXQ2WzWOJQd",
        "outputId": "f758a345-edd1-43ab-8723-436f7eae0b73"
      },
      "execution_count": 146,
      "outputs": [
        {
          "output_type": "stream",
          "name": "stdout",
          "text": [
            "Help on built-in function reduce in module _functools:\n",
            "\n",
            "reduce(...)\n",
            "    reduce(function, sequence[, initial]) -> value\n",
            "    \n",
            "    Apply a function of two arguments cumulatively to the items of a sequence,\n",
            "    from left to right, so as to reduce the sequence to a single value.\n",
            "    For example, reduce(lambda x, y: x+y, [1, 2, 3, 4, 5]) calculates\n",
            "    ((((1+2)+3)+4)+5).  If initial is present, it is placed before the items\n",
            "    of the sequence in the calculation, and serves as a default when the\n",
            "    sequence is empty.\n",
            "\n"
          ]
        }
      ]
    },
    {
      "cell_type": "code",
      "source": [],
      "metadata": {
        "id": "_ZddugFEOMo4"
      },
      "execution_count": null,
      "outputs": []
    },
    {
      "cell_type": "markdown",
      "source": [
        "```\n",
        "Reading Exceptions\n"
      ],
      "metadata": {
        "id": "Fb3KIThNPDMs"
      }
    },
    {
      "cell_type": "markdown",
      "source": [
        "```\n",
        "Handling Exceptions\n"
      ],
      "metadata": {
        "id": "Oqqm-ASASLhu"
      }
    },
    {
      "cell_type": "code",
      "source": [
        "try:\n",
        "  .....\n",
        "except:\n",
        "  .....\n"
      ],
      "metadata": {
        "colab": {
          "base_uri": "https://localhost:8080/",
          "height": 131
        },
        "id": "2ghON0nKPKH0",
        "outputId": "120158ab-8d13-4152-c08a-d14af33a4b32"
      },
      "execution_count": 149,
      "outputs": [
        {
          "output_type": "error",
          "ename": "SyntaxError",
          "evalue": "ignored",
          "traceback": [
            "\u001b[0;36m  File \u001b[0;32m\"<ipython-input-149-81539d3900d8>\"\u001b[0;36m, line \u001b[0;32m2\u001b[0m\n\u001b[0;31m    .....\u001b[0m\n\u001b[0m        ^\u001b[0m\n\u001b[0;31mSyntaxError\u001b[0m\u001b[0;31m:\u001b[0m invalid syntax\n"
          ]
        }
      ]
    },
    {
      "cell_type": "code",
      "source": [
        "90201\n",
        "\n",
        "\n",
        "\n",
        "\n",
        "\n",
        "\n"
      ],
      "metadata": {
        "colab": {
          "base_uri": "https://localhost:8080/",
          "height": 131
        },
        "id": "tHXBJ0g6SN1y",
        "outputId": "1b281f09-0e22-4164-855d-36ce8932f86b"
      },
      "execution_count": 150,
      "outputs": [
        {
          "output_type": "error",
          "ename": "SyntaxError",
          "evalue": "ignored",
          "traceback": [
            "\u001b[0;36m  File \u001b[0;32m\"<ipython-input-150-d8198c7f4427>\"\u001b[0;36m, line \u001b[0;32m1\u001b[0m\n\u001b[0;31m    dir(--exceptioms_))\u001b[0m\n\u001b[0m                      ^\u001b[0m\n\u001b[0;31mSyntaxError\u001b[0m\u001b[0;31m:\u001b[0m unmatched ')'\n"
          ]
        }
      ]
    },
    {
      "cell_type": "code",
      "source": [],
      "metadata": {
        "id": "azgWzK2IYRUY"
      },
      "execution_count": null,
      "outputs": []
    }
  ]
}